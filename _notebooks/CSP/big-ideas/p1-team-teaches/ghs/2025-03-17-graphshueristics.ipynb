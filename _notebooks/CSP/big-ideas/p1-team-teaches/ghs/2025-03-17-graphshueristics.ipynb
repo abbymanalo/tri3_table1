{
 "cells": [
  {
   "cell_type": "markdown",
   "metadata": {},
   "source": [
    "---\n",
    "toc: true\n",
    "comments: false\n",
    "layout: post\n",
    "categories: [CSP Big Idea 4]\n",
    "title: Team Teach Group 1\n",
    "description: Undecidable Problems & Graphs/Heuristics\n",
    "courses: { csp: {week: 13 } }\n",
    "type: ccc\n",
    "permalink: /csp/period1/graphsheuristics\n",
    "---"
   ]
  },
  {
   "cell_type": "markdown",
   "metadata": {},
   "source": [
    "## Graphs\n",
    "- Graph algorithms used to manipulate and analyze graphs, solving various problems like finding the shortest path, cycles detection\n",
    "- Graph Data Structure is collection of nodes connected by edges to represent relationships between different entities\n",
    "- Graph data structure is a non linear data structure consisting of vertices and edges\n",
    "- Useful in in fields such as social network analysis, recommendation systems, and computer networks.\n",
    "- Vertices: Vertices are the fundamental units of the graph. Sometimes, vertices are also known as vertex or nodes. Every node/vertex can be labeled or unlabelled.\n",
    "- Edges: Edges are drawn or used to connect two nodes of the graph. It can be ordered pair of nodes in a directed graph. Edges can connect any two nodes in any possible way. There are no rules. Sometimes, edges are also known as arcs. Every edge can be labelled/unlabelled."
   ]
  },
  {
   "cell_type": "markdown",
   "metadata": {},
   "source": [
    "## Heuristic\n",
    "- Approach to a problem that is not guaranteed optimal every time but can be used since finding the optimal solution would take an unreasonable amount of time"
   ]
  }
 ],
 "metadata": {
  "language_info": {
   "name": "python"
  }
 },
 "nbformat": 4,
 "nbformat_minor": 2
}
